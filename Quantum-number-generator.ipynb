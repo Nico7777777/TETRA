{
 "cells": [
  {
   "cell_type": "code",
   "execution_count": null,
   "metadata": {},
   "outputs": [
    {
     "name": "stdout",
     "output_type": "stream",
     "text": [
      "SamplerResult(quasi_dists=[{236: 0.004, 193: 0.00325, 117: 0.00325, 57: 0.006, 72: 0.005, 6: 0.0045, 202: 0.00375, 227: 0.00525, 8: 0.00425, 161: 0.00275, 176: 0.0045, 94: 0.00375, 130: 0.00375, 53: 0.00475, 43: 0.00275, 2: 0.0035, 231: 0.0045, 206: 0.00575, 34: 0.004, 62: 0.0045, 113: 0.004, 77: 0.00375, 11: 0.00325, 180: 0.0045, 90: 0.00525, 134: 0.0045, 104: 0.00525, 239: 0.006, 196: 0.0055, 213: 0.0055, 241: 0.004, 20: 0.00625, 192: 0.003, 235: 0.005, 244: 0.0055, 109: 0.0045, 137: 0.0045, 103: 0.005, 200: 0.00325, 171: 0.00525, 215: 0.0045, 114: 0.003, 237: 0.00325, 198: 0.004, 195: 0.00425, 234: 0.00425, 60: 0.005, 36: 0.004, 210: 0.00275, 80: 0.002, 190: 0.0045, 249: 0.0035, 133: 0.0025, 214: 0.00325, 145: 0.00325, 55: 0.00425, 70: 0.0025, 124: 0.004, 223: 0.00525, 252: 0.00475, 31: 0.00325, 250: 0.00375, 108: 0.003, 96: 0.00425, 127: 0.00275, 67: 0.0055, 254: 0.00475, 100: 0.005, 71: 0.00425, 123: 0.005, 255: 0.0025, 51: 0.00275, 45: 0.003, 66: 0.004, 139: 0.00475, 25: 0.00475, 170: 0.0025, 135: 0.0045, 65: 0.00425, 125: 0.0045, 16: 0.0045, 93: 0.006, 177: 0.005, 3: 0.00325, 126: 0.0045, 64: 0.00375, 148: 0.00425, 38: 0.00275, 58: 0.00325, 157: 0.003, 228: 0.0035, 207: 0.00425, 140: 0.003, 188: 0.003, 86: 0.0025, 27: 0.00275, 81: 0.00475, 189: 0.0025, 152: 0.00575, 150: 0.0015, 10: 0.00275, 26: 0.00425, 61: 0.003, 35: 0.00375, 142: 0.006, 47: 0.00325, 49: 0.00425, 131: 0.00375, 163: 0.00325, 186: 0.0045, 84: 0.00225, 28: 0.00375, 232: 0.00275, 199: 0.003, 238: 0.003, 191: 0.00375, 83: 0.00375, 242: 0.004, 204: 0.00375, 225: 0.0025, 216: 0.00475, 169: 0.00375, 0: 0.00375, 144: 0.0035, 138: 0.00325, 19: 0.00475, 197: 0.00475, 37: 0.00375, 59: 0.00275, 229: 0.00325, 129: 0.003, 95: 0.00625, 179: 0.00325, 42: 0.00375, 54: 0.003, 184: 0.00425, 151: 0.0035, 23: 0.00375, 91: 0.00275, 183: 0.004, 75: 0.00325, 119: 0.006, 219: 0.00325, 50: 0.005, 46: 0.0045, 251: 0.005, 159: 0.0035, 39: 0.00475, 30: 0.00375, 224: 0.00325, 203: 0.003, 116: 0.005, 74: 0.004, 1: 0.0035, 168: 0.00375, 87: 0.00325, 187: 0.006, 221: 0.003, 97: 0.005, 158: 0.00325, 121: 0.003, 230: 0.0035, 205: 0.00275, 56: 0.0025, 118: 0.00425, 76: 0.00575, 102: 0.0055, 41: 0.005, 167: 0.00325, 253: 0.00675, 14: 0.0055, 128: 0.004, 4: 0.00275, 99: 0.00375, 115: 0.00325, 79: 0.0035, 141: 0.00425, 63: 0.002, 33: 0.00475, 185: 0.00375, 209: 0.0035, 240: 0.00325, 155: 0.00425, 112: 0.00375, 78: 0.005, 247: 0.00375, 211: 0.00525, 85: 0.00375, 17: 0.0055, 165: 0.00425, 175: 0.004, 226: 0.00225, 146: 0.00425, 7: 0.00375, 246: 0.0045, 89: 0.004, 132: 0.0045, 147: 0.00425, 222: 0.00425, 13: 0.006, 194: 0.00175, 120: 0.007, 166: 0.00325, 22: 0.004, 52: 0.0025, 44: 0.005, 111: 0.00425, 92: 0.0035, 182: 0.003, 12: 0.005, 73: 0.004, 181: 0.004, 29: 0.004, 153: 0.0035, 217: 0.00325, 40: 0.00425, 156: 0.004, 212: 0.0035, 122: 0.00275, 68: 0.00325, 82: 0.00375, 208: 0.00425, 248: 0.004, 154: 0.00375, 105: 0.004, 32: 0.003, 98: 0.00325, 164: 0.00375, 173: 0.0035, 15: 0.0025, 149: 0.00475, 160: 0.00425, 9: 0.00225, 136: 0.003, 101: 0.0035, 24: 0.0035, 143: 0.00375, 5: 0.00475, 220: 0.00375, 178: 0.00425, 243: 0.00375, 174: 0.004, 106: 0.00325, 233: 0.00275, 110: 0.00275, 18: 0.003, 48: 0.00175, 201: 0.003, 218: 0.00275, 69: 0.00425, 162: 0.00425, 172: 0.0035, 88: 0.00375, 21: 0.00325, 245: 0.00425, 107: 0.00275}], metadata=[{'shots': 4000, 'simulator_metadata': {'batched_shots_optimization': False, 'required_memory_mb': 0, 'method': 'stabilizer', 'active_input_qubits': [0, 1, 2, 3, 4, 5, 6, 7], 'device': 'CPU', 'remapped_qubits': False, 'num_qubits': 8, 'num_clbits': 8, 'time_taken': 0.0177224, 'sample_measure_time': 0.011523, 'input_qubit_map': [[0, 0], [1, 1], [2, 2], [3, 3], [4, 4], [5, 5], [6, 6], [7, 7]], 'max_memory_mb': 32687, 'measure_sampling': True, 'noise': 'ideal', 'parallel_shots': 1, 'parallel_state_update': 8, 'runtime_parameter_bind': False, 'num_bind_params': 1, 'fusion': {'enabled': False}}}])\n"
     ]
    },
    {
     "name": "stderr",
     "output_type": "stream",
     "text": [
      "C:\\Users\\cring\\AppData\\Local\\Temp\\ipykernel_172400\\1269555809.py:43: DeprecationWarning: The Sampler and Estimator V1 primitives have been deprecated as of qiskit-ibm-runtime 0.23.0 and will be removed no sooner than 3 months after the release date. Please use the V2 Primitives. See the `V2 migration guide <https://docs.quantum.ibm.com/api/migration-guides/v2-primitives>`_. for more details\n",
      "  sampler = Sampler(backend)\n",
      "C:\\Users\\cring\\AppData\\Local\\Temp\\ipykernel_172400\\1269555809.py:49: DeprecationWarning: The Sampler and Estimator V1 primitives have been deprecated as of qiskit-ibm-runtime 0.23.0 and will be removed no sooner than 3 months after the release date. Please use the V2 Primitives. See the `V2 migration guide <https://docs.quantum.ibm.com/api/migration-guides/v2-primitives>`_. for more details\n",
      "  job = Sampler(backend).run([circuit])\n"
     ]
    }
   ],
   "source": [
    "import qiskit\n",
    "from qiskit import QuantumRegister, QuantumCircuit \n",
    "from qiskit_ibm_runtime import QiskitRuntimeService, Sampler\n",
    "from qiskit_aer import AerSimulator\n",
    "\n",
    "\n",
    "#-----------------------------------------------------------------\n",
    "# Define a Quantum circuit of n Qubits \n",
    "#-----------------------------------------------------------------\n",
    "def set_qubits(n: int):\n",
    "    global circuit\n",
    "    qr = QuantumRegister(n)  \n",
    "    cr = qiskit.ClassicalRegister(n)\n",
    "    circuit = QuantumCircuit(qr, cr)\n",
    "    circuit.h(qr)  \n",
    "    circuit.measure(qr, cr)\n",
    "\n",
    "#-----------------------------------------------------------------\n",
    "# Connect with personal token and search for a backend\n",
    "#-----------------------------------------------------------------\n",
    "QiskitRuntimeService.save_account(\n",
    "\n",
    "    channel=\"ibm_quantum\",\n",
    "\n",
    "    token=\"4898c20d997d63123be49d4862b622b77737243c46b5a48793b2dc60681ead2308789275e6976617cc7eee5d28ab98a6400a1a0a43febe1f64510899f70a1525\",\n",
    "\n",
    "    set_as_default=True,\n",
    "\n",
    "    overwrite=True,\n",
    ")\n",
    "\n",
    "service = QiskitRuntimeService()\n",
    "\n",
    "#service = QiskitRuntimeService(channel=\"ibm_quantum\")\n",
    "#backend = service.least_busy(operational=True, simulator=False, min_num_qubits=127) #service.backend(\"ibm_brisbane\") #service.least_busy(operational=True, simulator=False, min_num_qubits=127)\n",
    "#backend.name\n",
    "\n",
    "#backend = service.backend(\"ibm_brisbane\")\n",
    "#backend = backend.name\n",
    "\n",
    "backend = AerSimulator()\n",
    "sampler = Sampler(backend)\n",
    "\n",
    "#-----------------------------------------------------------------\n",
    "# Generate the Channels and SNR\n",
    "#-----------------------------------------------------------------\n",
    "set_qubits(8) \n",
    "job = Sampler(backend).run([circuit])  \n",
    "result = job.result()  \n",
    "\n",
    "print(result)\n"
   ]
  }
 ],
 "metadata": {
  "kernelspec": {
   "display_name": "Environment",
   "language": "python",
   "name": "python3"
  },
  "language_info": {
   "codemirror_mode": {
    "name": "ipython",
    "version": 3
   },
   "file_extension": ".py",
   "mimetype": "text/x-python",
   "name": "python",
   "nbconvert_exporter": "python",
   "pygments_lexer": "ipython3",
   "version": "3.11.9"
  }
 },
 "nbformat": 4,
 "nbformat_minor": 2
}
